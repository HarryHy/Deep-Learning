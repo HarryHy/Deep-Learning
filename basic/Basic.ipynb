{
 "cells": [
  {
   "cell_type": "code",
   "execution_count": 3,
   "metadata": {},
   "outputs": [
    {
     "name": "stdout",
     "output_type": "stream",
     "text": [
      "torch.Size([4, 1, 28, 28])\n",
      "tensor([[0.7263, 0.1418, 0.3199,  ..., 0.3004, 0.9196, 0.9595],\n",
      "        [0.4072, 0.5350, 0.4589,  ..., 0.7532, 0.3014, 0.9496],\n",
      "        [0.5103, 0.3882, 0.2843,  ..., 0.8702, 0.3980, 0.6504],\n",
      "        [0.1117, 0.5802, 0.4365,  ..., 0.1802, 0.7913, 0.8551]])\n",
      "torch.Size([4, 784])\n",
      "torch.Size([112, 28])\n",
      "torch.Size([4, 1, 784])\n"
     ]
    }
   ],
   "source": [
    "import torch\n",
    "a=torch.rand(4,1,28,28)\n",
    "print(a.shape)\n",
    "#将后3维合并\n",
    "print(a.view(4,28*28))\n",
    "print(a.view(4,28*28).shape)\n",
    "#将前3维合并\n",
    "print(a.view(4*28,28).shape)\n",
    "#将前2维合并\n",
    "print(a.view(4,1,28*28).shape)"
   ]
  },
  {
   "cell_type": "code",
   "execution_count": 4,
   "metadata": {},
   "outputs": [
    {
     "name": "stdout",
     "output_type": "stream",
     "text": [
      "torch.Size([4, 1, 28, 28])\n",
      "torch.Size([1, 4, 1, 28, 28])\n",
      "torch.Size([4, 1, 28, 28, 1])\n",
      "torch.Size([4, 1, 28, 1, 28])\n"
     ]
    }
   ],
   "source": [
    "print(a.shape)\n",
    "print(a.unsqueeze(0).shape) # 在0号维度位置插入一个维度\n",
    "print(a.unsqueeze(-1).shape) # 在最后插入一个维度\n",
    "print(a.unsqueeze(3).shape) # 在3号维度位置插入一个维度"
   ]
  },
  {
   "cell_type": "code",
   "execution_count": 5,
   "metadata": {},
   "outputs": [
    {
     "name": "stdout",
     "output_type": "stream",
     "text": [
      "torch.Size([1, 4, 1, 9])\n",
      "torch.Size([4, 9])\n",
      "torch.Size([4, 1, 9])\n",
      "torch.Size([1, 4, 9])\n",
      "torch.Size([1, 4, 1, 9])\n"
     ]
    }
   ],
   "source": [
    "import torch\n",
    "a = torch.Tensor(1, 4, 1, 9)\n",
    "print(a.shape)\n",
    "print(a.squeeze().shape) # 能删除的都删除掉\n",
    "print(a.squeeze(0).shape) # 尝试删除0号维度,ok\n",
    "print(a.squeeze(2).shape) # 尝试删除2号维度,ok\n",
    "print(a.squeeze(3).shape) # 尝试删除3号维度,3号维度是9不是1,删除失败"
   ]
  },
  {
   "cell_type": "code",
   "execution_count": 6,
   "metadata": {},
   "outputs": [
    {
     "name": "stdout",
     "output_type": "stream",
     "text": [
      "torch.Size([1, 32, 1, 1])\n",
      "torch.Size([4, 32, 14, 14])\n"
     ]
    }
   ],
   "source": [
    "import torch\n",
    "\n",
    "b = torch.rand(32)\n",
    "f = torch.rand(4, 32, 14, 14)\n",
    "\n",
    "# 想要把b加到f上面去\n",
    "\n",
    "# 先进行维度增加\n",
    "b = b.unsqueeze(1).unsqueeze(2).unsqueeze(0)\n",
    "print(b.shape)\n",
    "\n",
    "# 再进行维度扩展\n",
    "b = b.expand(4, -1, 14, 14)  # -1表示这个维度保持不变,这里写32也可以\n",
    "print(b.shape)"
   ]
  },
  {
   "cell_type": "code",
   "execution_count": 7,
   "metadata": {},
   "outputs": [
    {
     "name": "stdout",
     "output_type": "stream",
     "text": [
      "torch.Size([4, 32, 14, 14])\n",
      "torch.Size([16, 32, 196, 196])\n"
     ]
    }
   ],
   "source": [
    "# 维度增加...\n",
    "print(b.shape)\n",
    "\n",
    "# 维度重复,32这里不想进行重复,所以就相当于\"重复至1次\"\n",
    "b = b.repeat(4, 1, 14, 14)\n",
    "print(b.shape)"
   ]
  },
  {
   "cell_type": "code",
   "execution_count": 9,
   "metadata": {},
   "outputs": [
    {
     "name": "stdout",
     "output_type": "stream",
     "text": [
      "torch.Size([2, 4])\n",
      "torch.Size([4, 2])\n"
     ]
    }
   ],
   "source": [
    "c = torch.Tensor(2, 4)\n",
    "print(c.shape)\n",
    "print(c.t().shape)"
   ]
  },
  {
   "cell_type": "code",
   "execution_count": 10,
   "metadata": {},
   "outputs": [
    {
     "name": "stdout",
     "output_type": "stream",
     "text": [
      "torch.Size([4, 6, 7, 3])\n"
     ]
    }
   ],
   "source": [
    "h = torch.rand(4, 3, 6, 7)\n",
    "print(h.permute(0, 2, 3, 1).shape)"
   ]
  },
  {
   "cell_type": "code",
   "execution_count": 11,
   "metadata": {},
   "outputs": [
    {
     "name": "stdout",
     "output_type": "stream",
     "text": [
      "torch.Size([6, 2, 1, 3])\n"
     ]
    }
   ],
   "source": [
    "d = torch.Tensor(6, 3, 1, 2)\n",
    "print(d.transpose(1, 3).contiguous().shape) # 1号维度和3号维度交换\n",
    "#注意这种交换使得存储不再连续，再执行一些reshape的操作肯定是执行不了的，所以要调用一下contiguous()使其变成连续的维度。"
   ]
  },
  {
   "cell_type": "code",
   "execution_count": 15,
   "metadata": {},
   "outputs": [
    {
     "name": "stdout",
     "output_type": "stream",
     "text": [
      "torch.Size([4, 3, 6, 7])\n",
      "tensor(1, dtype=torch.uint8)\n"
     ]
    }
   ],
   "source": [
    "e = torch.rand(4, 3, 6, 7)\n",
    "e2 = e.transpose(1, 3).contiguous().reshape(4, 7 * 6 * 3).reshape(4, 7, 6, 3).transpose(1, 3)\n",
    "print(e2.shape)\n",
    "# 比较下两个Tensor所有位置上的元素是否都相等\n",
    "print(torch.all(torch.eq(e, e2)))"
   ]
  }
 ],
 "metadata": {
  "kernelspec": {
   "display_name": "Python 3",
   "language": "python",
   "name": "python3"
  },
  "language_info": {
   "codemirror_mode": {
    "name": "ipython",
    "version": 3
   },
   "file_extension": ".py",
   "mimetype": "text/x-python",
   "name": "python",
   "nbconvert_exporter": "python",
   "pygments_lexer": "ipython3",
   "version": "3.6.7"
  }
 },
 "nbformat": 4,
 "nbformat_minor": 2
}
